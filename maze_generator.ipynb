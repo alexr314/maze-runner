{
 "cells": [
  {
   "cell_type": "code",
   "execution_count": 5,
   "metadata": {},
   "outputs": [],
   "source": [
    "import numpy as np\n",
    "import matplotlib.pyplot as plt\n",
    "import random"
   ]
  },
  {
   "cell_type": "code",
   "execution_count": 190,
   "metadata": {},
   "outputs": [],
   "source": [
    "n_grid = 10"
   ]
  },
  {
   "cell_type": "code",
   "execution_count": 194,
   "metadata": {},
   "outputs": [],
   "source": [
    "def get_neighbors(loc):\n",
    "    neighbors = []\n",
    "    # left\n",
    "    if 0 < loc % n_grid:\n",
    "        neighbors.append(loc-1)\n",
    "    # right\n",
    "    if loc % n_grid < n_grid-1:\n",
    "        neighbors.append(loc+1)\n",
    "    # up\n",
    "    if n_grid < loc:\n",
    "        neighbors.append(loc-n_grid)\n",
    "    # down\n",
    "    if loc < (n_grid-1) * n_grid:\n",
    "        neighbors.append(loc+n_grid)\n",
    "        \n",
    "    return neighbors\n",
    "\n",
    "\n",
    "def get_pos(index):\n",
    "    return index%n_grid+.5, index//n_grid+.5\n",
    "\n",
    "\n",
    "def draw_edge(edge):\n",
    "    plt.plot(*np.array([get_pos(i) for i in edge]).T, color='k')\n",
    "\n",
    "\n",
    "def draw_paths(edges):\n",
    "    for edge in edges:\n",
    "        draw_edge(edge)\n",
    "\n",
    "    plt.rcParams['figure.figsize'] = [3,3] \n",
    "    plt.grid()\n",
    "    plt.axis([0,n_grid,0,n_grid])\n",
    "    plt.show()\n",
    "\n",
    "# draw_paths(edges)\n",
    "\n",
    "\n",
    "def draw_wall(dual_edge):\n",
    "    p1 = np.array(get_pos(dual_edge[0]))\n",
    "    p2 = np.array(get_pos(dual_edge[1]))\n",
    "    centroid = (p1 + p2)/2\n",
    "    # vertical edge\n",
    "    if p1[0] == p2[0]:\n",
    "        plt.plot([centroid[0]-.5, centroid[0]+.5], [centroid[1], centroid[1]], color='k')\n",
    "        \n",
    "    # horizontal edge\n",
    "    if p1[1] == p2[1]:\n",
    "        plt.plot([centroid[0], centroid[0]], [centroid[1]-.5, centroid[1]+.5], color='k')\n",
    "\n",
    "        \n",
    "def draw_maze(edges):\n",
    "    plt.hlines([0,n_grid], 0, n_grid, color='k', lw=3)\n",
    "    plt.vlines([0,n_grid], 0, n_grid, color='k', lw=3)\n",
    "    \n",
    "    all_edges = sum([[(i,j) for j in get_neighbors(i) if j > i] for i in range(n_grid**2)], [])\n",
    "    \n",
    "    for edge in all_edges:\n",
    "        if edge not in edges:\n",
    "            draw_wall(edge)\n",
    "\n",
    "    plt.rcParams['figure.figsize'] = [3,3] \n",
    "    plt.grid()\n",
    "    plt.axis([0,n_grid+.1,-.1,n_grid])\n",
    "    \n",
    "    \n",
    "# all_edges = sum([[(i,j) for j in get_neighbors(i) if j > i] for i in range(n_grid**2)], [])"
   ]
  },
  {
   "cell_type": "markdown",
   "metadata": {},
   "source": [
    "## Self Avoiding Walk:"
   ]
  },
  {
   "cell_type": "code",
   "execution_count": 28,
   "metadata": {},
   "outputs": [
    {
     "data": {
      "text/plain": [
       "(0.0, 10.0, 0.0, 10.0)"
      ]
     },
     "execution_count": 28,
     "metadata": {},
     "output_type": "execute_result"
    },
    {
     "data": {
      "image/png": "[encoded data removed]",
      "text/plain": [
       "<Figure size 216x216 with 1 Axes>"
      ]
     },
     "metadata": {
      "needs_background": "light"
     },
     "output_type": "display_data"
    }
   ],
   "source": [
    "def step_to(loc):\n",
    "    history.append(loc)\n",
    "    neighbors = get_neighbors(loc)\n",
    "    possible_steps = list(set(neighbors) - set(history))\n",
    "    if len(possible_steps) > 0:\n",
    "        new_loc = random.choice(possible_steps)\n",
    "        step_to(new_loc)\n",
    "\n",
    "\n",
    "history = []\n",
    "\n",
    "step_to(0)\n",
    "\n",
    "positions = np.array([get_pos(i) for i in history])\n",
    "\n",
    "plt.rcParams['figure.figsize'] = [3,3] \n",
    "plt.plot(*positions.T)\n",
    "plt.grid()\n",
    "plt.axis([0,n_grid,0,n_grid])"
   ]
  },
  {
   "cell_type": "markdown",
   "metadata": {},
   "source": [
    "## Randomized DFS"
   ]
  },
  {
   "cell_type": "code",
   "execution_count": 196,
   "metadata": {},
   "outputs": [
    {
     "data": {
      "image/png": "[encoded data removed]",
      "text/plain": [
       "<Figure size 216x216 with 1 Axes>"
      ]
     },
     "metadata": {
      "needs_background": "light"
     },
     "output_type": "display_data"
    }
   ],
   "source": [
    "def generate_maze():\n",
    "    history = []\n",
    "    edges = []\n",
    "\n",
    "    def step_to(loc):\n",
    "        history.append(loc)\n",
    "        neighbors = get_neighbors(loc)\n",
    "        possible_steps = list(set(neighbors) - set(history))\n",
    "        if len(possible_steps) > 0:\n",
    "            random.shuffle(possible_steps)\n",
    "            for new_loc in possible_steps:\n",
    "                if new_loc in history:\n",
    "                    continue\n",
    "                edges.append((loc, new_loc))\n",
    "                step_to(new_loc)\n",
    "\n",
    "    step_to(0)\n",
    "    \n",
    "    return [tuple(sorted(e)) for e in edges]\n",
    "\n",
    "edges = generate_maze()\n",
    "\n",
    "draw_maze(edges)\n",
    "plt.axis('off'); plt.show()"
   ]
  },
  {
   "cell_type": "code",
   "execution_count": 228,
   "metadata": {},
   "outputs": [
    {
     "data": {
      "image/png": "[encoded data removed]",
      "text/plain": [
       "<Figure size 1000x400 with 10 Axes>"
      ]
     },
     "metadata": {
      "needs_background": "light"
     },
     "output_type": "display_data"
    }
   ],
   "source": [
    "n_grid=10\n",
    "\n",
    "plt.figure(figsize=[10,4], dpi=100)\n",
    "for i in range(10):\n",
    "    plt.subplot(2,5,i+1)\n",
    "    edges = generate_maze()\n",
    "    draw_maze(edges)\n",
    "    plt.axis('off')\n",
    "    \n",
    "# plt.suptitle(f'Random {n_grid}x{n_grid} mazes')\n",
    "# plt.savefig('10x10_mazes.png', bbox_inches='tight')"
   ]
  },
  {
   "cell_type": "markdown",
   "metadata": {},
   "source": [
    "## Making \"block mazes\""
   ]
  },
  {
   "cell_type": "code",
   "execution_count": 169,
   "metadata": {},
   "outputs": [
    {
     "data": {
      "image/png": "[encoded data removed]",
      "text/plain": [
       "<Figure size 216x216 with 1 Axes>"
      ]
     },
     "metadata": {
      "needs_background": "light"
     },
     "output_type": "display_data"
    },
    {
     "data": {
      "image/png": "[encoded data removed]",
      "text/plain": [
       "<Figure size 216x216 with 1 Axes>"
      ]
     },
     "metadata": {
      "needs_background": "light"
     },
     "output_type": "display_data"
    }
   ],
   "source": [
    "draw_maze(edges)\n",
    "plt.axis('off'); plt.show()\n",
    "\n",
    "def get_block_maze(edges, padded=True):\n",
    "    maze = np.tile(np.array([[0,1],[1,1]]), (n_grid, n_grid))[:-1,:-1]\n",
    "    padded_maze = np.pad(maze, 1, 'constant', constant_values=1)\n",
    "\n",
    "    for edge in edges:\n",
    "        a,b = np.unravel_index(edge, (n_grid, n_grid))\n",
    "        a,b = [np.array(x) for x in zip(a,b)]\n",
    "        padded_maze[tuple(a+b+1)] = 0\n",
    "\n",
    "    if padded: \n",
    "        return padded_maze\n",
    "    else:\n",
    "        return padded_maze[1:-1, 1:-1]\n",
    "    \n",
    "padded_maze = get_block_maze(edges)\n",
    "\n",
    "plt.imshow(np.flip(padded_maze, 0), cmap='gray_r')\n",
    "plt.axis('off'); plt.show()"
   ]
  },
  {
   "cell_type": "markdown",
   "metadata": {},
   "source": [
    "## Remove a fraction of the walls"
   ]
  },
  {
   "cell_type": "code",
   "execution_count": 192,
   "metadata": {},
   "outputs": [
    {
     "data": {
      "image/png": "[encoded data removed]",
      "text/plain": [
       "<Figure size 216x216 with 1 Axes>"
      ]
     },
     "metadata": {
      "needs_background": "light"
     },
     "output_type": "display_data"
    }
   ],
   "source": [
    "n_grid = 5\n",
    "edges = generate_maze()\n",
    "maze = get_block_maze(edges, padded=False)\n",
    "maze = maze * np.random.random(maze.shape) > .05\n",
    "padded_maze = np.pad(maze, 1, 'constant', constant_values=1)\n",
    "plt.imshow(padded_maze, cmap='gray_r')\n",
    "plt.axis('off'); plt.show()"
   ]
  },
  {
   "cell_type": "code",
   "execution_count": 205,
   "metadata": {},
   "outputs": [
    {
     "data": {
      "image/png": "[encoded data removed]",
      "text/plain": [
       "<Figure size 1000x400 with 10 Axes>"
      ]
     },
     "metadata": {
      "needs_background": "light"
     },
     "output_type": "display_data"
    }
   ],
   "source": [
    "plt.figure(figsize=[10,4], dpi=100)\n",
    "for i in range(10):\n",
    "    plt.subplot(2,5,i+1)\n",
    "    edges = generate_maze()\n",
    "    maze = get_block_maze(edges, padded=False)\n",
    "    maze = maze * np.random.random(maze.shape) > .1\n",
    "    padded_maze = np.pad(maze, 1, 'constant', constant_values=1)\n",
    "    plt.imshow(padded_maze, cmap='gray_r')\n",
    "    plt.axis('off')"
   ]
  },
  {
   "cell_type": "markdown",
   "metadata": {},
   "source": [
    "# Generating a set of mazes"
   ]
  },
  {
   "cell_type": "markdown",
   "metadata": {},
   "source": [
    "We will generate unpadded 5x5 mazes to start"
   ]
  },
  {
   "cell_type": "code",
   "execution_count": 229,
   "metadata": {},
   "outputs": [
    {
     "data": {
      "image/png": "[encoded data removed]",
      "text/plain": [
       "<Figure size 216x216 with 1 Axes>"
      ]
     },
     "metadata": {
      "needs_background": "light"
     },
     "output_type": "display_data"
    }
   ],
   "source": [
    "n_grid = 3\n",
    "edges = generate_maze()\n",
    "maze = get_block_maze(edges, padded=False)\n",
    "plt.imshow(maze, cmap='gray_r')\n",
    "plt.axis('off'); plt.show()"
   ]
  },
  {
   "cell_type": "code",
   "execution_count": 230,
   "metadata": {},
   "outputs": [],
   "source": [
    "n_grid = 3\n",
    "\n",
    "generate_block_maze = lambda : get_block_maze(generate_maze(), padded=False)\n",
    "\n",
    "mazes = np.array([generate_block_maze() for _ in range(1024)])\n",
    "\n",
    "np.save('5x5_block_mazes.npy', mazes)"
   ]
  },
  {
   "cell_type": "code",
   "execution_count": null,
   "metadata": {},
   "outputs": [],
   "source": []
  }
 ],
 "metadata": {
  "kernelspec": {
   "display_name": "Python 3",
   "language": "python",
   "name": "python3"
  },
  "language_info": {
   "codemirror_mode": {
    "name": "ipython",
    "version": 3
   },
   "file_extension": ".py",
   "mimetype": "text/x-python",
   "name": "python",
   "nbconvert_exporter": "python",
   "pygments_lexer": "ipython3",
   "version": "3.7.3"
  }
 },
 "nbformat": 4,
 "nbformat_minor": 4
}
