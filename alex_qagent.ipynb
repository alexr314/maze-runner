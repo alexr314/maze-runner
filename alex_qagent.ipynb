{
 "cells": [
  {
   "cell_type": "code",
   "execution_count": 51,
   "id": "f935e6e7-70ed-449d-8dc6-2c6322343675",
   "metadata": {},
   "outputs": [],
   "source": [
    "# Currenly I'm observing that my agent always goes right and never really does anything else..."
   ]
  },
  {
   "cell_type": "code",
   "execution_count": 1,
   "id": "b16a545b",
   "metadata": {},
   "outputs": [],
   "source": [
    "import numpy as np\n",
    "import matplotlib.pyplot as plt\n",
    "from tqdm import tqdm as tqdm\n",
    "from copy import copy"
   ]
  },
  {
   "cell_type": "code",
   "execution_count": 24,
   "id": "c29505bc-c063-4f21-a0be-9dcaccbfbce0",
   "metadata": {},
   "outputs": [],
   "source": [
    "import sys"
   ]
  },
  {
   "cell_type": "code",
   "execution_count": 2,
   "id": "a6518ef2",
   "metadata": {},
   "outputs": [],
   "source": [
    "import time\n",
    "from IPython.display import clear_output"
   ]
  },
  {
   "cell_type": "code",
   "execution_count": 42,
   "id": "51377c72",
   "metadata": {},
   "outputs": [],
   "source": [
    "class GridEnvironment:\n",
    "    \n",
    "    # Note: all references to \"Delays\" refer to \"Shutdown Delay Buttons\"\n",
    "\n",
    "    # In my new formulation there is no coins array which is updated to reflect \n",
    "    # that coins have been collected, instead the flags in self.state are used\n",
    "    # to determine the presence of a coin.\n",
    "    \n",
    "    # Note that these flags are ordered in the same way as the coins are initalized\n",
    "    # in the coins dict. This relies upon dict behavior which was introduced in Python 3.6\\\n",
    "    \n",
    "    # TODO: Make the shutdown delay buttons disappear after pressing them. \n",
    "    # Use the same logic as the coins\n",
    "    \n",
    "    \n",
    "    def __init__(self, walls, delays, coins, \n",
    "                 starting_pos=(0,0), env_shape=(5,5), shutdown_time=10):\n",
    "        \n",
    "        # Environment setup:\n",
    "        self.env_shape = env_shape\n",
    "        self.starting_pos = starting_pos\n",
    "        self.coins = coins\n",
    "        self.coin_ids = {k:i for i,k in enumerate(coins.keys())}\n",
    "        self.delays = delays\n",
    "        self.delay_ids = {k:i for i,k in enumerate(delays.keys())}\n",
    "        self.walls = walls\n",
    "        \n",
    "        assert len(delays.keys() & coins.keys()) == 0, \"Delay Buttons and Coins should not overlap\"\n",
    "        \n",
    "        # These will be the values upon resetting, these will never change:\n",
    "        self.inital_shutdown_time = shutdown_time\n",
    "#         self.inital_delays        = delays\n",
    "        \n",
    "        # Keep track of episode number, we will display this later:\n",
    "        self.current_episode = -1\n",
    "        self.reset()\n",
    "        \n",
    "    \n",
    "    def reset(self):\n",
    "        '''Restores the environment variables to their inital values'''\n",
    "        # Reset state:\n",
    "        self.state = self.starting_pos + (1,) * (len(self.coins) + len(self.delays))\n",
    "        \n",
    "        # These are initalized by the values above and updated during the episode:\n",
    "        self.steps_until_shutdown = self.inital_shutdown_time\n",
    "#         self.remaining_delays     = self.inital_delays\n",
    "        \n",
    "        self.coins_collected = 0\n",
    "        self.current_episode += 1\n",
    "        self.state_history = [self.state]\n",
    "        \n",
    "        \n",
    "    def get_reward(self):\n",
    "        '''Collect coin: returns value of coin and then deletes the coin'''\n",
    "        pos = self.state[:2]\n",
    "        \n",
    "        # REMOVE THIS BLOCK \n",
    "        if pos == (0,0):\n",
    "            # Hard coded reward for debugging\n",
    "            reward = 10\n",
    "            self.coins_collected += reward\n",
    "            return reward\n",
    "        \n",
    "        if not pos in coins.keys():\n",
    "            # if there is no coin here\n",
    "            return 0\n",
    "        \n",
    "        coin_value = self.coins[pos]\n",
    "        \n",
    "        # Keep track of the total coins collected:\n",
    "        self.coins_collected += coin_value\n",
    "        \n",
    "        # Set flag corresponding to the coin to 0, indicating that it has been collected:\n",
    "        coin_id = self.coin_ids[pos]\n",
    "        state = list(self.state)\n",
    "        state[coin_id+2] = 0\n",
    "        self.state = tuple(state)\n",
    "        \n",
    "        return coin_value\n",
    "    \n",
    "    \n",
    "    def update_remaining_steps(self):\n",
    "        '''Presses the delay button and then deletes the button'''\n",
    "        pos = self.state[:2]\n",
    "        if pos in delays.keys():\n",
    "\n",
    "            # Set the flag corresponding to the delay button to 0, they are one-time-use\n",
    "            delay_id = self.delay_ids[pos]\n",
    "            state = list(self.state)\n",
    "            state[-1-delay_id] = 0\n",
    "            self.state = tuple(state)\n",
    "            \n",
    "            delay = self.delays[pos]\n",
    "            self.steps_until_shutdown += delay\n",
    "            \n",
    "        \n",
    "    def step(self, action):\n",
    "        '''Expects action to be one of: ['up', 'down', 'left', 'right']'''\n",
    "        assert self.steps_until_shutdown > 0, f\"Trying to step, but {self.steps_until_shutdown} steps until shutdown\"\n",
    "            \n",
    "        x, y = self.state[:2]\n",
    "        \n",
    "        # Define actions as delta changes: (dx, dy)\n",
    "        action_effects = {\n",
    "            'up':    (-1, 0),\n",
    "            'down':  ( 1, 0),\n",
    "            'left':  ( 0,-1),\n",
    "            'right': ( 0, 1)\n",
    "        }\n",
    "        dx, dy = action_effects[action]\n",
    "        new_x = max(0, min(self.env_shape[0] - 1, x + dx))\n",
    "        new_y = max(0, min(self.env_shape[1] - 1, y + dy))\n",
    "        new_pos = (new_x, new_y)\n",
    "        \n",
    "        # Check if the next state is a wall\n",
    "        if self.walls[new_pos].any():\n",
    "            new_pos = self.state[:2]  # Remain in the same state if it's a wall\n",
    "            \n",
    "        self.state = new_pos + self.state[2:]\n",
    "        self.state_history.append(self.state)\n",
    "        self.update_remaining_steps() # Presses Delay Button is one is present\n",
    "        self.steps_until_shutdown -= 1\n",
    "        done = self.steps_until_shutdown == 0\n",
    "        \n",
    "        return self.state, self.get_reward(), done\n",
    "    \n",
    "    def __str__(self):\n",
    "        \n",
    "        rep = ''\n",
    "        for i in range(self.env_shape[0]):\n",
    "            for j in range(self.env_shape[1]):\n",
    "                if self.state[:2] == (i, j):\n",
    "                    rep += \"A \"\n",
    "                elif (i, j) in self.coins:\n",
    "                    if self.state[self.coin_ids[(i, j)]+2]:\n",
    "                        rep += \"C \"\n",
    "                    else:\n",
    "                        rep += \". \"\n",
    "                elif (i, j) in self.delays:\n",
    "                    if self.state[-1-self.delay_ids[(i,j)]]:\n",
    "                        rep += \"T \"\n",
    "                    else:\n",
    "                        rep += \". \"\n",
    "                elif self.walls[i,j] != 0:\n",
    "                    rep += '# '\n",
    "                else:\n",
    "                    rep += \". \"\n",
    "            rep += '\\n'\n",
    "        return rep\n",
    "    \n",
    "    \n",
    "    def __repr__(self):\n",
    "        return f'''Object: Gridworld Environment ---\n",
    "Shape: {self.env_shape}\n",
    "Episode: {self.current_episode}\n",
    "State: {self.state}\n",
    "{self.steps_until_shutdown} steps until shutdown\n",
    "{self.coins_collected} coins collected'''"
   ]
  },
  {
   "cell_type": "code",
   "execution_count": 19,
   "id": "891f138d-4869-41ba-8e90-535ecf791ce7",
   "metadata": {},
   "outputs": [
    {
     "data": {
      "text/plain": [
       "Object: Gridworld Environment ---\n",
       "Shape: (5, 5)\n",
       "Episode: 6\n",
       "State: (0, 2)\n",
       "6 steps until shutdown\n",
       "0 coins collected"
      ]
     },
     "execution_count": 19,
     "metadata": {},
     "output_type": "execute_result"
    }
   ],
   "source": [
    "env"
   ]
  },
  {
   "cell_type": "code",
   "execution_count": 43,
   "id": "26a014da",
   "metadata": {},
   "outputs": [],
   "source": [
    "class Q_Agent:\n",
    "    def __init__(self, env_shape, n_flags, actions, learning_rate=0.1, discount_factor=1.0, epsilon=0.9, epsilon_decay=0.99, epsilon_min=0.1):\n",
    "        self.q_values = np.random.rand(*env_shape, *([2]*n_flags), len(actions))\n",
    "        self.learning_rate = learning_rate\n",
    "        self.discount_factor = discount_factor\n",
    "        self.epsilon = epsilon\n",
    "        self.epsilon_decay = epsilon_decay\n",
    "        self.epsilon_min = epsilon_min\n",
    "        self.actions = actions\n",
    "\n",
    "    def choose_action(self, state):\n",
    "        if np.random.random() < self.epsilon:\n",
    "            return np.random.choice(self.actions)\n",
    "        else:\n",
    "            action_index = np.argmax(self.q_values[state])\n",
    "            return self.actions[action_index]\n",
    "\n",
    "    def update_q_values(self, state, action, reward, next_state):\n",
    "        old_q_value = self.q_values[state + (self.actions.index(action),)]\n",
    "        future_reward = np.max(self.q_values[next_state])\n",
    "        self.q_values[state + (self.actions.index(action),)] = old_q_value + self.learning_rate * (reward + self.discount_factor * future_reward - old_q_value)\n",
    "\n",
    "    def update_epsilon(self):\n",
    "        if self.epsilon > self.epsilon_min:\n",
    "            self.epsilon *= self.epsilon_decay\n",
    "        else:\n",
    "            self.epsilon = self.epsilon_min\n",
    "            "
   ]
  },
  {
   "cell_type": "code",
   "execution_count": 44,
   "id": "2eedeb14",
   "metadata": {},
   "outputs": [],
   "source": [
    "# env_shape = (5,5)\n",
    "\n",
    "# walls  = np.zeros(env_shape)\n",
    "# walls[((1,1,3,3), (1,2,2,3))] = 1\n",
    "# delays = {(2,2):5, (2,4):3}\n",
    "# coins  = {(4,4):10, (4,1):5}\n",
    "\n",
    "# my_env = GridEnvironment(walls, delays, coins)\n",
    "\n",
    "# # env.step('right')\n",
    "# # print(env.steps_until_shutdown, 'steps until shutdown')\n",
    "# # print(env.coins_collected, 'coins collected\\n')\n",
    "# # print(env)"
   ]
  },
  {
   "cell_type": "code",
   "execution_count": 45,
   "id": "1d5c91dd",
   "metadata": {},
   "outputs": [],
   "source": [
    "# old_state = copy(my_env.state)\n",
    "\n",
    "# new_state, reward, done = my_env.step('right')\n",
    "\n",
    "# print(old_state, new_state, reward)\n",
    "\n",
    "# print(my_env)"
   ]
  },
  {
   "cell_type": "code",
   "execution_count": 46,
   "id": "1baa1909",
   "metadata": {},
   "outputs": [],
   "source": [
    "# agent.update_q_values(old_state, 'right', reward, new_state)\n",
    "\n",
    "# agent.q_values[new_state]"
   ]
  },
  {
   "cell_type": "markdown",
   "id": "915af8c5",
   "metadata": {},
   "source": [
    "### Training Loop"
   ]
  },
  {
   "cell_type": "code",
   "execution_count": 47,
   "id": "f4204f3a",
   "metadata": {},
   "outputs": [
    {
     "name": "stderr",
     "output_type": "stream",
     "text": [
      "100%|█████████████████████████████████| 100000/100000 [00:22<00:00, 4348.98it/s]\n"
     ]
    }
   ],
   "source": [
    "actions = [\"up\", \"down\", \"left\", \"right\"]\n",
    "\n",
    "env_shape = (3,3)\n",
    "shutdown_time = 10\n",
    "agent_starting_position = (1,0)\n",
    "\n",
    "walls  = np.zeros(env_shape)\n",
    "walls[((1,1), (1,2))] = 1\n",
    "# walls[((1,1,3,3), (1,2,2,3))] = 1\n",
    "delays = {} # {(2,2):5, (2,4):3}\n",
    "coins  = {} # {(2,2):10, (4,4):10, (4,1):5}\n",
    "\n",
    "n_flags = len(delays) +len(coins)\n",
    "\n",
    "agent = Q_Agent(env_shape, n_flags, actions)\n",
    "\n",
    "episode_rewards = []\n",
    "episode_histories = []\n",
    "\n",
    "env = GridEnvironment(walls, delays, coins, starting_pos=agent_starting_position, env_shape=env_shape, shutdown_time=shutdown_time)\n",
    "\n",
    "episodes=100_000\n",
    "for episode in tqdm(range(episodes), position=0):\n",
    "    env.reset()\n",
    "    \n",
    "    done = False\n",
    "    while not done:\n",
    "        state = env.state\n",
    "        action = agent.choose_action(state)\n",
    "        old_state = copy(state)\n",
    "        new_state, reward, done = env.step(action)\n",
    "        agent.update_q_values(old_state, 'right', reward, new_state)\n",
    "        \n",
    "#         time.sleep(0.5)\n",
    "#         print(action)\n",
    "#         print(env)\n",
    "#         clear_output(wait=True)\n",
    "    \n",
    "    episode_rewards.append(env.coins_collected)\n",
    "    episode_histories.append(env.state_history)\n",
    "    agent.update_epsilon()"
   ]
  },
  {
   "cell_type": "code",
   "execution_count": 48,
   "id": "29292cc2-0b7f-4b5a-9e2b-bdef43995485",
   "metadata": {},
   "outputs": [
    {
     "data": {
      "text/plain": [
       "[<matplotlib.lines.Line2D at 0x120f81c90>]"
      ]
     },
     "execution_count": 48,
     "metadata": {},
     "output_type": "execute_result"
    },
    {
     "data": {
      "image/png": "[encoded data removed]",
      "text/plain": [
       "<Figure size 432x288 with 1 Axes>"
      ]
     },
     "metadata": {
      "needs_background": "light"
     },
     "output_type": "display_data"
    }
   ],
   "source": [
    "plt.plot(episode_rewards)"
   ]
  },
  {
   "cell_type": "code",
   "execution_count": 49,
   "id": "5fa9734b-3540-4569-9434-70666162e447",
   "metadata": {},
   "outputs": [
    {
     "data": {
      "text/plain": [
       "0.79691"
      ]
     },
     "execution_count": 49,
     "metadata": {},
     "output_type": "execute_result"
    }
   ],
   "source": [
    "np.mean(np.array(episode_rewards) == 0)"
   ]
  },
  {
   "cell_type": "code",
   "execution_count": 50,
   "id": "45119721",
   "metadata": {},
   "outputs": [
    {
     "name": "stdout",
     "output_type": "stream",
     "text": [
      "Done\n"
     ]
    }
   ],
   "source": [
    "def deploy_agent():\n",
    "    agent.epsilon = 0\n",
    "\n",
    "    env.reset()\n",
    "    done = False\n",
    "    while not done:\n",
    "        state = env.state\n",
    "        action = agent.choose_action(state)\n",
    "        old_state = copy(state)\n",
    "        new_state, reward, done = env.step(action)\n",
    "\n",
    "        time.sleep(0.5)\n",
    "        print(action)\n",
    "        print(env)\n",
    "        clear_output(wait=True)\n",
    "        \n",
    "deploy_agent()\n",
    "print('Done')"
   ]
  },
  {
   "cell_type": "code",
   "execution_count": 10,
   "id": "744f06dc",
   "metadata": {},
   "outputs": [
    {
     "data": {
      "text/plain": [
       "(3, 4, 2, 2, 2, 2, 4)"
      ]
     },
     "execution_count": 10,
     "metadata": {},
     "output_type": "execute_result"
    }
   ],
   "source": [
    "agent.q_values.shape"
   ]
  },
  {
   "cell_type": "code",
   "execution_count": null,
   "id": "bb963d36",
   "metadata": {},
   "outputs": [],
   "source": [
    "import itertools\n",
    "\n",
    "states_visited = itertools.chain.from_iterable(episode_histories)"
   ]
  },
  {
   "cell_type": "code",
   "execution_count": 505,
   "id": "95e43ff5",
   "metadata": {},
   "outputs": [
    {
     "data": {
      "text/plain": [
       "[<matplotlib.lines.Line2D at 0x7f78fc350828>]"
      ]
     },
     "execution_count": 505,
     "metadata": {},
     "output_type": "execute_result"
    },
    {
     "data": {
      "image/png": "[encoded data removed]",
      "text/plain": [
       "<Figure size 432x288 with 1 Axes>"
      ]
     },
     "metadata": {
      "needs_background": "light"
     },
     "output_type": "display_data"
    }
   ],
   "source": [
    "plt.plot(episode_rewards)"
   ]
  },
  {
   "cell_type": "code",
   "execution_count": null,
   "id": "e3b24d2e",
   "metadata": {},
   "outputs": [],
   "source": []
  }
 ],
 "metadata": {
  "kernelspec": {
   "display_name": "Python 3 (ipykernel)",
   "language": "python",
   "name": "python3"
  },
  "language_info": {
   "codemirror_mode": {
    "name": "ipython",
    "version": 3
   },
   "file_extension": ".py",
   "mimetype": "text/x-python",
   "name": "python",
   "nbconvert_exporter": "python",
   "pygments_lexer": "ipython3",
   "version": "3.7.13"
  }
 },
 "nbformat": 4,
 "nbformat_minor": 5
}
